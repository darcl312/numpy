{
 "cells": [
  {
   "cell_type": "code",
   "execution_count": 2,
   "id": "a8c93ebd-a1a0-4bfd-92da-b94f70c33bc9",
   "metadata": {},
   "outputs": [
    {
     "name": "stdout",
     "output_type": "stream",
     "text": [
      "Requirement already satisfied: numpy in c:\\users\\darshil\\anaconda3\\lib\\site-packages (1.26.4)\n",
      "Note: you may need to restart the kernel to use updated packages.\n"
     ]
    }
   ],
   "source": [
    "pip install numpy "
   ]
  },
  {
   "cell_type": "code",
   "execution_count": 3,
   "id": "90c3d777-0880-4725-b86f-ba01e73a6e30",
   "metadata": {},
   "outputs": [
    {
     "name": "stdout",
     "output_type": "stream",
     "text": [
      "28000\n",
      "4000\n"
     ]
    }
   ],
   "source": [
    "import numpy as np\n",
    "import time\n",
    "import sys\n",
    "\n",
    "l = range(1000)\n",
    "print(sys.getsizeof(1)*len(l))\n",
    "\n",
    "a = np.arange(1000)\n",
    "print(a.size*a.itemsize)"
   ]
  },
  {
   "cell_type": "code",
   "execution_count": 4,
   "id": "5974869c-7a40-4e79-91dc-355caacdb7f8",
   "metadata": {},
   "outputs": [
    {
     "name": "stdout",
     "output_type": "stream",
     "text": [
      "python list :: 1336.1115455627441\n",
      "numpy took : 17.708539962768555\n"
     ]
    }
   ],
   "source": [
    "SIZE = 10000000\n",
    "\n",
    "l1 = range(SIZE)\n",
    "l2 = range(SIZE)\n",
    "\n",
    "a1=np.arange(SIZE)\n",
    "a2=np.arange(SIZE)\n",
    "\n",
    "#list\n",
    "start = time.time()\n",
    "result =  [(x+y) for x,y in zip(l1,l2)]\n",
    "print(\"python list ::\" , (time.time() -start)*1000)\n",
    "\n",
    "#numpy array\n",
    "start = time.time()\n",
    "result1 = a1 + a2\n",
    "print(\"numpy took :\" , (time.time()-start)*1000)"
   ]
  },
  {
   "cell_type": "code",
   "execution_count": 12,
   "id": "0c639744-b7c6-47af-8fcd-e0703014f91b",
   "metadata": {},
   "outputs": [
    {
     "data": {
      "text/plain": [
       "array([1, 2, 3])"
      ]
     },
     "execution_count": 12,
     "metadata": {},
     "output_type": "execute_result"
    }
   ],
   "source": [
    "b= np.array([[1,2,3],[4,5,6]])\n",
    "\n",
    "b[[0][0]]"
   ]
  },
  {
   "cell_type": "code",
   "execution_count": 13,
   "id": "6c6a9806-9e26-4c44-a813-467790b0c45a",
   "metadata": {},
   "outputs": [
    {
     "data": {
      "text/plain": [
       "2"
      ]
     },
     "execution_count": 13,
     "metadata": {},
     "output_type": "execute_result"
    }
   ],
   "source": [
    "b.ndim"
   ]
  },
  {
   "cell_type": "code",
   "execution_count": 14,
   "id": "88c9a2d2-2dfe-4c78-8ded-e3da01631ab7",
   "metadata": {},
   "outputs": [
    {
     "data": {
      "text/plain": [
       "4"
      ]
     },
     "execution_count": 14,
     "metadata": {},
     "output_type": "execute_result"
    }
   ],
   "source": [
    "b.itemsize"
   ]
  },
  {
   "cell_type": "code",
   "execution_count": 15,
   "id": "4196d4f4-98ec-4770-8c45-1bede16f614c",
   "metadata": {},
   "outputs": [
    {
     "data": {
      "text/plain": [
       "dtype('int32')"
      ]
     },
     "execution_count": 15,
     "metadata": {},
     "output_type": "execute_result"
    }
   ],
   "source": [
    "b.dtype"
   ]
  },
  {
   "cell_type": "code",
   "execution_count": 21,
   "id": "8fa103e9-744c-417b-b6b6-a8d21ae44b6d",
   "metadata": {},
   "outputs": [
    {
     "data": {
      "text/plain": [
       "(2, 3)"
      ]
     },
     "execution_count": 21,
     "metadata": {},
     "output_type": "execute_result"
    }
   ],
   "source": [
    "b.shape"
   ]
  },
  {
   "cell_type": "code",
   "execution_count": 16,
   "id": "010fe07d-f131-4937-b924-5691f51b2e62",
   "metadata": {},
   "outputs": [],
   "source": [
    "c= np.array([[1,2,3],[4,5,6]] , dtype=np.float64)"
   ]
  },
  {
   "cell_type": "code",
   "execution_count": 17,
   "id": "d1e1d4f2-c73f-488e-aad1-45e3c6b3f4b1",
   "metadata": {},
   "outputs": [
    {
     "data": {
      "text/plain": [
       "8"
      ]
     },
     "execution_count": 17,
     "metadata": {},
     "output_type": "execute_result"
    }
   ],
   "source": [
    "c.itemsize"
   ]
  },
  {
   "cell_type": "code",
   "execution_count": 18,
   "id": "e7740c5f-731d-4661-a523-7e401992e5e4",
   "metadata": {},
   "outputs": [
    {
     "data": {
      "text/plain": [
       "dtype('float64')"
      ]
     },
     "execution_count": 18,
     "metadata": {},
     "output_type": "execute_result"
    }
   ],
   "source": [
    "c.dtype"
   ]
  },
  {
   "cell_type": "code",
   "execution_count": 19,
   "id": "256c24ad-50d8-4848-a957-90fb0566124a",
   "metadata": {},
   "outputs": [
    {
     "data": {
      "text/plain": [
       "array([[1, 2, 3],\n",
       "       [4, 5, 6]])"
      ]
     },
     "execution_count": 19,
     "metadata": {},
     "output_type": "execute_result"
    }
   ],
   "source": [
    "b"
   ]
  },
  {
   "cell_type": "code",
   "execution_count": 20,
   "id": "57c0fcc3-3533-4634-9422-9ec196521f03",
   "metadata": {},
   "outputs": [
    {
     "data": {
      "text/plain": [
       "array([[1., 2., 3.],\n",
       "       [4., 5., 6.]])"
      ]
     },
     "execution_count": 20,
     "metadata": {},
     "output_type": "execute_result"
    }
   ],
   "source": [
    "c"
   ]
  },
  {
   "cell_type": "code",
   "execution_count": 22,
   "id": "bd511b00-51f1-4b79-a0c8-599c64124064",
   "metadata": {},
   "outputs": [
    {
     "data": {
      "text/plain": [
       "(2, 3)"
      ]
     },
     "execution_count": 22,
     "metadata": {},
     "output_type": "execute_result"
    }
   ],
   "source": [
    "c.shape"
   ]
  },
  {
   "cell_type": "code",
   "execution_count": 25,
   "id": "fc7abedf-0686-471f-937b-113f8657ca8f",
   "metadata": {},
   "outputs": [],
   "source": [
    "d= np.array([[1,2],[3,4],[5,6]] , dtype=complex)"
   ]
  },
  {
   "cell_type": "code",
   "execution_count": 26,
   "id": "e84cdaed-7845-48a4-a5a8-c6ea44a57678",
   "metadata": {},
   "outputs": [
    {
     "data": {
      "text/plain": [
       "array([[1.+0.j, 2.+0.j],\n",
       "       [3.+0.j, 4.+0.j],\n",
       "       [5.+0.j, 6.+0.j]])"
      ]
     },
     "execution_count": 26,
     "metadata": {},
     "output_type": "execute_result"
    }
   ],
   "source": [
    "d"
   ]
  },
  {
   "cell_type": "code",
   "execution_count": 28,
   "id": "636747be-16ca-4a3e-82c8-75364c5ee734",
   "metadata": {},
   "outputs": [
    {
     "data": {
      "text/plain": [
       "array([[0., 0., 0., 0.],\n",
       "       [0., 0., 0., 0.],\n",
       "       [0., 0., 0., 0.]])"
      ]
     },
     "execution_count": 28,
     "metadata": {},
     "output_type": "execute_result"
    }
   ],
   "source": [
    "np.zeros((3,4))"
   ]
  },
  {
   "cell_type": "code",
   "execution_count": 29,
   "id": "2eb410ed-21af-4df0-b140-2aaf0da63759",
   "metadata": {},
   "outputs": [
    {
     "data": {
      "text/plain": [
       "array([[1., 1., 1.],\n",
       "       [1., 1., 1.]])"
      ]
     },
     "execution_count": 29,
     "metadata": {},
     "output_type": "execute_result"
    }
   ],
   "source": [
    "np.ones((2,3))"
   ]
  },
  {
   "cell_type": "code",
   "execution_count": 30,
   "id": "ccee70ee-063c-41b2-8a71-8de28d09e15a",
   "metadata": {},
   "outputs": [],
   "source": [
    "#list\n",
    "l=range(5)"
   ]
  },
  {
   "cell_type": "code",
   "execution_count": 31,
   "id": "874b5f44-a2f1-4c39-8ada-773f7fe95156",
   "metadata": {},
   "outputs": [
    {
     "data": {
      "text/plain": [
       "range(0, 5)"
      ]
     },
     "execution_count": 31,
     "metadata": {},
     "output_type": "execute_result"
    }
   ],
   "source": [
    "l"
   ]
  },
  {
   "cell_type": "code",
   "execution_count": 34,
   "id": "fdbd4195-a8ee-4254-ae3a-ddc2f2032c97",
   "metadata": {},
   "outputs": [
    {
     "data": {
      "text/plain": [
       "array([1, 2, 3, 4])"
      ]
     },
     "execution_count": 34,
     "metadata": {},
     "output_type": "execute_result"
    }
   ],
   "source": [
    "#numpy array\n",
    "\n",
    "np.arange(1,5)"
   ]
  },
  {
   "cell_type": "code",
   "execution_count": 39,
   "id": "c661c06b-1f54-4f06-964c-c762974605c1",
   "metadata": {},
   "outputs": [
    {
     "data": {
      "text/plain": [
       "array([1, 3])"
      ]
     },
     "execution_count": 39,
     "metadata": {},
     "output_type": "execute_result"
    }
   ],
   "source": [
    "np.arange(1,5,2) #(start,end,step)"
   ]
  },
  {
   "cell_type": "code",
   "execution_count": 40,
   "id": "6b5e292d-dab0-49b8-9da8-5bd1eb0ca92d",
   "metadata": {},
   "outputs": [
    {
     "data": {
      "text/plain": [
       "array([1.        , 1.44444444, 1.88888889, 2.33333333, 2.77777778,\n",
       "       3.22222222, 3.66666667, 4.11111111, 4.55555556, 5.        ])"
      ]
     },
     "execution_count": 40,
     "metadata": {},
     "output_type": "execute_result"
    }
   ],
   "source": [
    "np.linspace(1,5,10) #(start,end,numbers wanted between start and end)"
   ]
  },
  {
   "cell_type": "code",
   "execution_count": 41,
   "id": "ddfafc87-d222-4fcd-a7d8-8fc9ac7ce488",
   "metadata": {},
   "outputs": [
    {
     "data": {
      "text/plain": [
       "array([1.        , 1.21052632, 1.42105263, 1.63157895, 1.84210526,\n",
       "       2.05263158, 2.26315789, 2.47368421, 2.68421053, 2.89473684,\n",
       "       3.10526316, 3.31578947, 3.52631579, 3.73684211, 3.94736842,\n",
       "       4.15789474, 4.36842105, 4.57894737, 4.78947368, 5.        ])"
      ]
     },
     "execution_count": 41,
     "metadata": {},
     "output_type": "execute_result"
    }
   ],
   "source": [
    "np.linspace(1,5,20)"
   ]
  },
  {
   "cell_type": "code",
   "execution_count": 42,
   "id": "23f1fe0f-764f-4398-a5c3-8f2771f1748e",
   "metadata": {},
   "outputs": [
    {
     "data": {
      "text/plain": [
       "array([[1, 2, 3],\n",
       "       [4, 5, 6]])"
      ]
     },
     "execution_count": 42,
     "metadata": {},
     "output_type": "execute_result"
    }
   ],
   "source": [
    "b"
   ]
  },
  {
   "cell_type": "code",
   "execution_count": 43,
   "id": "181986e0-c421-47db-a71a-5313ee3d9632",
   "metadata": {},
   "outputs": [
    {
     "data": {
      "text/plain": [
       "(2, 3)"
      ]
     },
     "execution_count": 43,
     "metadata": {},
     "output_type": "execute_result"
    }
   ],
   "source": [
    "b.shape"
   ]
  },
  {
   "cell_type": "code",
   "execution_count": 44,
   "id": "ed4eb859-1c1a-4d27-a2ac-67707249b2d9",
   "metadata": {},
   "outputs": [
    {
     "data": {
      "text/plain": [
       "array([[1, 2],\n",
       "       [3, 4],\n",
       "       [5, 6]])"
      ]
     },
     "execution_count": 44,
     "metadata": {},
     "output_type": "execute_result"
    }
   ],
   "source": [
    "b.reshape(3,2)"
   ]
  },
  {
   "cell_type": "code",
   "execution_count": 46,
   "id": "7617382a-b2a3-495a-9c3d-ac1d88dcd5cf",
   "metadata": {},
   "outputs": [
    {
     "data": {
      "text/plain": [
       "array([[1, 2, 3, 4, 5, 6]])"
      ]
     },
     "execution_count": 46,
     "metadata": {},
     "output_type": "execute_result"
    }
   ],
   "source": [
    "b.reshape(1,6)"
   ]
  },
  {
   "cell_type": "code",
   "execution_count": 47,
   "id": "085336f4-c346-48cf-9312-1f53e45481fa",
   "metadata": {},
   "outputs": [
    {
     "data": {
      "text/plain": [
       "array([[1],\n",
       "       [2],\n",
       "       [3],\n",
       "       [4],\n",
       "       [5],\n",
       "       [6]])"
      ]
     },
     "execution_count": 47,
     "metadata": {},
     "output_type": "execute_result"
    }
   ],
   "source": [
    "b.reshape(6,1)"
   ]
  },
  {
   "cell_type": "code",
   "execution_count": 48,
   "id": "65924299-1f55-4de7-871e-427f2ebc5dd5",
   "metadata": {},
   "outputs": [
    {
     "data": {
      "text/plain": [
       "array([1, 2, 3, 4, 5, 6])"
      ]
     },
     "execution_count": 48,
     "metadata": {},
     "output_type": "execute_result"
    }
   ],
   "source": [
    "b.ravel() #return one dimentional array , don't change the original array"
   ]
  },
  {
   "cell_type": "code",
   "execution_count": 49,
   "id": "8e0f7578-7ede-4e55-b45c-5fecf3aedac5",
   "metadata": {},
   "outputs": [
    {
     "data": {
      "text/plain": [
       "array([[1, 2, 3],\n",
       "       [4, 5, 6]])"
      ]
     },
     "execution_count": 49,
     "metadata": {},
     "output_type": "execute_result"
    }
   ],
   "source": [
    "b"
   ]
  },
  {
   "cell_type": "code",
   "execution_count": 51,
   "id": "9a301d50-78dd-40df-ad3b-d3e4e22f29e8",
   "metadata": {},
   "outputs": [
    {
     "data": {
      "text/plain": [
       "1"
      ]
     },
     "execution_count": 51,
     "metadata": {},
     "output_type": "execute_result"
    }
   ],
   "source": [
    "b.min()"
   ]
  },
  {
   "cell_type": "code",
   "execution_count": 52,
   "id": "70f3fe3b-4636-41ea-916c-30dd9e7b40f9",
   "metadata": {},
   "outputs": [
    {
     "data": {
      "text/plain": [
       "6"
      ]
     },
     "execution_count": 52,
     "metadata": {},
     "output_type": "execute_result"
    }
   ],
   "source": [
    "b.max()"
   ]
  },
  {
   "cell_type": "code",
   "execution_count": 53,
   "id": "947da9a4-b3c3-4288-9058-a280e80ed6ea",
   "metadata": {},
   "outputs": [
    {
     "data": {
      "text/plain": [
       "21"
      ]
     },
     "execution_count": 53,
     "metadata": {},
     "output_type": "execute_result"
    }
   ],
   "source": [
    "b.sum()"
   ]
  },
  {
   "cell_type": "code",
   "execution_count": 54,
   "id": "43bc50be-c21a-4fb5-9e06-ee935ee1dee7",
   "metadata": {},
   "outputs": [
    {
     "data": {
      "text/plain": [
       "array([5, 7, 9])"
      ]
     },
     "execution_count": 54,
     "metadata": {},
     "output_type": "execute_result"
    }
   ],
   "source": [
    "b.sum(axis=0) #axis=0 for column"
   ]
  },
  {
   "cell_type": "code",
   "execution_count": 55,
   "id": "3947b0ed-95a7-46f0-a044-d42ea39c656e",
   "metadata": {},
   "outputs": [
    {
     "data": {
      "text/plain": [
       "array([ 6, 15])"
      ]
     },
     "execution_count": 55,
     "metadata": {},
     "output_type": "execute_result"
    }
   ],
   "source": [
    "b.sum(axis=1) #axis=1 for raw"
   ]
  },
  {
   "cell_type": "code",
   "execution_count": 58,
   "id": "3231bd9b-00c7-4427-9a8d-3770fbe61118",
   "metadata": {},
   "outputs": [
    {
     "data": {
      "text/plain": [
       "array([[1.        , 1.41421356, 1.73205081],\n",
       "       [2.        , 2.23606798, 2.44948974]])"
      ]
     },
     "execution_count": 58,
     "metadata": {},
     "output_type": "execute_result"
    }
   ],
   "source": [
    "np.sqrt(b) #square root"
   ]
  },
  {
   "cell_type": "code",
   "execution_count": 59,
   "id": "bd9fd10b-ebdd-4657-82a8-de41b6e2e368",
   "metadata": {},
   "outputs": [
    {
     "data": {
      "text/plain": [
       "1.707825127659933"
      ]
     },
     "execution_count": 59,
     "metadata": {},
     "output_type": "execute_result"
    }
   ],
   "source": [
    "np.std(b) #standard deviation"
   ]
  },
  {
   "cell_type": "code",
   "execution_count": 60,
   "id": "9891dc78-f3e1-482e-8ad1-d793d1a1c98f",
   "metadata": {},
   "outputs": [
    {
     "data": {
      "text/plain": [
       "array([[1, 2, 3],\n",
       "       [4, 5, 6]])"
      ]
     },
     "execution_count": 60,
     "metadata": {},
     "output_type": "execute_result"
    }
   ],
   "source": [
    " b"
   ]
  },
  {
   "cell_type": "code",
   "execution_count": 62,
   "id": "91f7cfa0-9f81-4453-84fb-4d4d120d9b49",
   "metadata": {},
   "outputs": [
    {
     "data": {
      "text/plain": [
       "array([[ 6,  7,  8],\n",
       "       [ 9, 10, 11]])"
      ]
     },
     "execution_count": 62,
     "metadata": {},
     "output_type": "execute_result"
    }
   ],
   "source": [
    "e=np.array([[6,7,8],[9,10,11]])\n",
    "e"
   ]
  },
  {
   "cell_type": "code",
   "execution_count": 63,
   "id": "f0ffce36-d250-4799-82f9-5d8c95cef7b6",
   "metadata": {},
   "outputs": [
    {
     "data": {
      "text/plain": [
       "array([[ 7,  9, 11],\n",
       "       [13, 15, 17]])"
      ]
     },
     "execution_count": 63,
     "metadata": {},
     "output_type": "execute_result"
    }
   ],
   "source": [
    "b+e\n"
   ]
  },
  {
   "cell_type": "code",
   "execution_count": 64,
   "id": "c71ac526-2a27-4c6f-bd69-d4ea1b4b81cd",
   "metadata": {},
   "outputs": [
    {
     "data": {
      "text/plain": [
       "array([[-5, -5, -5],\n",
       "       [-5, -5, -5]])"
      ]
     },
     "execution_count": 64,
     "metadata": {},
     "output_type": "execute_result"
    }
   ],
   "source": [
    "b-e"
   ]
  },
  {
   "cell_type": "code",
   "execution_count": 65,
   "id": "e3defd51-bb17-4798-864d-89d2ae049171",
   "metadata": {},
   "outputs": [
    {
     "data": {
      "text/plain": [
       "array([[ 6, 14, 24],\n",
       "       [36, 50, 66]])"
      ]
     },
     "execution_count": 65,
     "metadata": {},
     "output_type": "execute_result"
    }
   ],
   "source": [
    "b*e"
   ]
  },
  {
   "cell_type": "code",
   "execution_count": 66,
   "id": "3f145863-52a6-422e-83e1-b68742edb77d",
   "metadata": {},
   "outputs": [
    {
     "data": {
      "text/plain": [
       "array([[0.16666667, 0.28571429, 0.375     ],\n",
       "       [0.44444444, 0.5       , 0.54545455]])"
      ]
     },
     "execution_count": 66,
     "metadata": {},
     "output_type": "execute_result"
    }
   ],
   "source": [
    "b/e"
   ]
  },
  {
   "cell_type": "code",
   "execution_count": 71,
   "id": "fb1448df-b67a-4755-89ec-10dd3404946a",
   "metadata": {},
   "outputs": [
    {
     "data": {
      "text/plain": [
       "[6, 7]"
      ]
     },
     "execution_count": 71,
     "metadata": {},
     "output_type": "execute_result"
    }
   ],
   "source": [
    "#python list\n",
    "n=[6,7,8]\n",
    "n[0:2]"
   ]
  },
  {
   "cell_type": "code",
   "execution_count": 72,
   "id": "54572c01-fbaf-4bda-9768-8455686c1174",
   "metadata": {},
   "outputs": [
    {
     "data": {
      "text/plain": [
       "8"
      ]
     },
     "execution_count": 72,
     "metadata": {},
     "output_type": "execute_result"
    }
   ],
   "source": [
    "n[-1]"
   ]
  },
  {
   "cell_type": "code",
   "execution_count": 74,
   "id": "2df3dd6b-687f-420a-af4d-3869c7e8cb4e",
   "metadata": {},
   "outputs": [
    {
     "data": {
      "text/plain": [
       "array([6, 7])"
      ]
     },
     "execution_count": 74,
     "metadata": {},
     "output_type": "execute_result"
    }
   ],
   "source": [
    "#numpy array\n",
    "#for 1D\n",
    "\n",
    "m=np.array([6,7,8])\n",
    "m[0:2]             #same as python list"
   ]
  },
  {
   "cell_type": "code",
   "execution_count": 75,
   "id": "fa6b303e-f28f-44a6-a156-8add20c31c94",
   "metadata": {},
   "outputs": [
    {
     "data": {
      "text/plain": [
       "array([[6, 7, 8],\n",
       "       [1, 2, 3],\n",
       "       [9, 3, 2]])"
      ]
     },
     "execution_count": 75,
     "metadata": {},
     "output_type": "execute_result"
    }
   ],
   "source": [
    "#mulyi dimension\n",
    "\n",
    "o=np.array([[6,7,8],[1,2,3],[9,3,2]])\n",
    "o"
   ]
  },
  {
   "cell_type": "code",
   "execution_count": 78,
   "id": "0f6744a2-a319-463e-9d07-5b592592e84f",
   "metadata": {},
   "outputs": [
    {
     "data": {
      "text/plain": [
       "3"
      ]
     },
     "execution_count": 78,
     "metadata": {},
     "output_type": "execute_result"
    }
   ],
   "source": [
    "o[1,2]        #2'nd raw , 3'rd column : element[3]"
   ]
  },
  {
   "cell_type": "code",
   "execution_count": 79,
   "id": "47869a40-3a52-4f0e-8fdc-a3541e66a96d",
   "metadata": {},
   "outputs": [
    {
     "data": {
      "text/plain": [
       "array([8, 3])"
      ]
     },
     "execution_count": 79,
     "metadata": {},
     "output_type": "execute_result"
    }
   ],
   "source": [
    "o[0:2,2]   # 0 and 1 'st raw , 3'rd column : elements [8,3]"
   ]
  },
  {
   "cell_type": "code",
   "execution_count": 81,
   "id": "8c5794b3-4e5a-4285-a453-5372bf47ce8e",
   "metadata": {},
   "outputs": [
    {
     "data": {
      "text/plain": [
       "array([9, 3, 2])"
      ]
     },
     "execution_count": 81,
     "metadata": {},
     "output_type": "execute_result"
    }
   ],
   "source": [
    "o[-1]"
   ]
  },
  {
   "cell_type": "code",
   "execution_count": 83,
   "id": "26d717c0-97da-4c1c-bbd3-5b57dc1eade8",
   "metadata": {},
   "outputs": [
    {
     "data": {
      "text/plain": [
       "array([9, 3])"
      ]
     },
     "execution_count": 83,
     "metadata": {},
     "output_type": "execute_result"
    }
   ],
   "source": [
    "o[-1,0:2]"
   ]
  },
  {
   "cell_type": "code",
   "execution_count": 85,
   "id": "e18cd74e-6b1f-4c27-bb89-86f5fffc8f57",
   "metadata": {},
   "outputs": [
    {
     "data": {
      "text/plain": [
       "array([[7, 8],\n",
       "       [2, 3],\n",
       "       [3, 2]])"
      ]
     },
     "execution_count": 85,
     "metadata": {},
     "output_type": "execute_result"
    }
   ],
   "source": [
    "o[:,1:] #or o[:,1:3]"
   ]
  },
  {
   "cell_type": "code",
   "execution_count": 87,
   "id": "9e4b165e-5431-4626-b6bb-5f4d06c1ba46",
   "metadata": {},
   "outputs": [
    {
     "name": "stdout",
     "output_type": "stream",
     "text": [
      "[6 7 8]\n",
      "[1 2 3]\n",
      "[9 3 2]\n"
     ]
    }
   ],
   "source": [
    "for row in o:\n",
    "    print(row)"
   ]
  },
  {
   "cell_type": "code",
   "execution_count": 89,
   "id": "b6a2f7ad-bb5f-4a65-ab48-eb2c0a9ec695",
   "metadata": {},
   "outputs": [
    {
     "name": "stdout",
     "output_type": "stream",
     "text": [
      "6\n",
      "7\n",
      "8\n",
      "1\n",
      "2\n",
      "3\n",
      "9\n",
      "3\n",
      "2\n"
     ]
    }
   ],
   "source": [
    "for cell in o.flat:\n",
    "    print(cell)                    #by flat method : convert into 1 D"
   ]
  },
  {
   "cell_type": "code",
   "execution_count": 103,
   "id": "0193be09-5405-4812-9952-0675e04a41e2",
   "metadata": {},
   "outputs": [
    {
     "data": {
      "text/plain": [
       "array([[0, 1],\n",
       "       [2, 3],\n",
       "       [4, 5]])"
      ]
     },
     "execution_count": 103,
     "metadata": {},
     "output_type": "execute_result"
    }
   ],
   "source": [
    "p=np.arange(6).reshape(3,2)\n",
    "p"
   ]
  },
  {
   "cell_type": "code",
   "execution_count": 104,
   "id": "7481cbf7-b5ba-463f-a329-c541ba621d78",
   "metadata": {},
   "outputs": [
    {
     "data": {
      "text/plain": [
       "array([[ 6,  7],\n",
       "       [ 8,  9],\n",
       "       [10, 11]])"
      ]
     },
     "execution_count": 104,
     "metadata": {},
     "output_type": "execute_result"
    }
   ],
   "source": [
    "q=np.arange(6,12).reshape(3,2)\n",
    "q"
   ]
  },
  {
   "cell_type": "code",
   "execution_count": 105,
   "id": "971ad9f6-ab44-482c-8103-15174ea08418",
   "metadata": {},
   "outputs": [
    {
     "data": {
      "text/plain": [
       "array([[ 0,  1],\n",
       "       [ 2,  3],\n",
       "       [ 4,  5],\n",
       "       [ 6,  7],\n",
       "       [ 8,  9],\n",
       "       [10, 11]])"
      ]
     },
     "execution_count": 105,
     "metadata": {},
     "output_type": "execute_result"
    }
   ],
   "source": [
    "np.vstack((p,q))"
   ]
  },
  {
   "cell_type": "code",
   "execution_count": 106,
   "id": "08a311b1-74f7-4ca5-8d35-1f212bd7ff19",
   "metadata": {},
   "outputs": [
    {
     "data": {
      "text/plain": [
       "array([[ 0,  1,  6,  7],\n",
       "       [ 2,  3,  8,  9],\n",
       "       [ 4,  5, 10, 11]])"
      ]
     },
     "execution_count": 106,
     "metadata": {},
     "output_type": "execute_result"
    }
   ],
   "source": [
    "np.hstack((p,q))\n"
   ]
  },
  {
   "cell_type": "code",
   "execution_count": 108,
   "id": "ff66c913-48a8-417e-afd4-ad3aed7ce7b2",
   "metadata": {},
   "outputs": [
    {
     "data": {
      "text/plain": [
       "array([[ 0,  1,  2,  3,  4,  5,  6,  7,  8,  9, 10, 11, 12, 13, 14],\n",
       "       [15, 16, 17, 18, 19, 20, 21, 22, 23, 24, 25, 26, 27, 28, 29]])"
      ]
     },
     "execution_count": 108,
     "metadata": {},
     "output_type": "execute_result"
    }
   ],
   "source": [
    "r=np.arange(30).reshape(2,15)\n",
    "r"
   ]
  },
  {
   "cell_type": "code",
   "execution_count": 112,
   "id": "a1f5b397-b6bd-4fd5-87b7-cf858a2e9465",
   "metadata": {},
   "outputs": [
    {
     "data": {
      "text/plain": [
       "[array([[ 0,  1,  2,  3,  4],\n",
       "        [15, 16, 17, 18, 19]]),\n",
       " array([[ 5,  6,  7,  8,  9],\n",
       "        [20, 21, 22, 23, 24]]),\n",
       " array([[10, 11, 12, 13, 14],\n",
       "        [25, 26, 27, 28, 29]])]"
      ]
     },
     "execution_count": 112,
     "metadata": {},
     "output_type": "execute_result"
    }
   ],
   "source": [
    "np.hsplit(r,3)"
   ]
  },
  {
   "cell_type": "code",
   "execution_count": 113,
   "id": "f26935ea-5533-417c-9753-ab866db65b6c",
   "metadata": {},
   "outputs": [
    {
     "data": {
      "text/plain": [
       "[array([[ 0,  1,  2,  3,  4,  5,  6,  7,  8,  9, 10, 11, 12, 13, 14]]),\n",
       " array([[15, 16, 17, 18, 19, 20, 21, 22, 23, 24, 25, 26, 27, 28, 29]])]"
      ]
     },
     "execution_count": 113,
     "metadata": {},
     "output_type": "execute_result"
    }
   ],
   "source": [
    "np.vsplit(r,2)"
   ]
  },
  {
   "cell_type": "code",
   "execution_count": 114,
   "id": "dd00f978-0c80-4ebe-9b7a-b5333bcc1a1f",
   "metadata": {},
   "outputs": [
    {
     "data": {
      "text/plain": [
       "array([[ 0,  1,  2,  3],\n",
       "       [ 4,  5,  6,  7],\n",
       "       [ 8,  9, 10, 11]])"
      ]
     },
     "execution_count": 114,
     "metadata": {},
     "output_type": "execute_result"
    }
   ],
   "source": [
    "s=np.arange(12).reshape(3,4)\n",
    "s"
   ]
  },
  {
   "cell_type": "code",
   "execution_count": 115,
   "id": "cda07309-3c3e-4c54-bd26-6754c7d7f5e5",
   "metadata": {},
   "outputs": [
    {
     "data": {
      "text/plain": [
       "array([[False, False, False, False],\n",
       "       [False, False,  True,  True],\n",
       "       [ True,  True,  True,  True]])"
      ]
     },
     "execution_count": 115,
     "metadata": {},
     "output_type": "execute_result"
    }
   ],
   "source": [
    "t= s>5\n",
    "t"
   ]
  },
  {
   "cell_type": "code",
   "execution_count": 116,
   "id": "46850359-2da7-4390-97cf-ec9dcfc7d36f",
   "metadata": {},
   "outputs": [
    {
     "data": {
      "text/plain": [
       "dtype('bool')"
      ]
     },
     "execution_count": 116,
     "metadata": {},
     "output_type": "execute_result"
    }
   ],
   "source": [
    "t.dtype"
   ]
  },
  {
   "cell_type": "code",
   "execution_count": 117,
   "id": "7a0b05b1-1ce5-412e-b32b-cd4ddbd272b1",
   "metadata": {},
   "outputs": [
    {
     "data": {
      "text/plain": [
       "array([ 6,  7,  8,  9, 10, 11])"
      ]
     },
     "execution_count": 117,
     "metadata": {},
     "output_type": "execute_result"
    }
   ],
   "source": [
    "s[t]"
   ]
  },
  {
   "cell_type": "code",
   "execution_count": 122,
   "id": "2a1aaa20-9f45-4a00-bc75-03cb0f036697",
   "metadata": {},
   "outputs": [
    {
     "data": {
      "text/plain": [
       "array([[0, 1, 2, 3],\n",
       "       [4, 5, 3, 3],\n",
       "       [3, 3, 3, 3]])"
      ]
     },
     "execution_count": 122,
     "metadata": {},
     "output_type": "execute_result"
    }
   ],
   "source": [
    "s[t]=3\n",
    "s   #where value is true , it assign = 3"
   ]
  },
  {
   "cell_type": "markdown",
   "id": "869ea3c9-de71-4513-8601-ecfd7366aa0f",
   "metadata": {},
   "source": [
    "# Numpy tutorial: iterable numpy array using nditer"
   ]
  },
  {
   "cell_type": "code",
   "execution_count": 145,
   "id": "b46df766-f16d-4ea7-8423-7a19d29afa9f",
   "metadata": {},
   "outputs": [
    {
     "data": {
      "text/plain": [
       "array([[ 0,  1,  2,  3],\n",
       "       [ 4,  5,  6,  7],\n",
       "       [ 8,  9, 10, 11]])"
      ]
     },
     "execution_count": 145,
     "metadata": {},
     "output_type": "execute_result"
    }
   ],
   "source": [
    "u= np.arange(12).reshape(3,4)\n",
    "u"
   ]
  },
  {
   "cell_type": "markdown",
   "id": "e295ab75-1d21-4971-9a0e-27a3a4a76966",
   "metadata": {},
   "source": [
    "### Using normal for loop iteration"
   ]
  },
  {
   "cell_type": "code",
   "execution_count": 146,
   "id": "89317f4c-5315-4081-8cb5-4ff5ea3b6439",
   "metadata": {},
   "outputs": [
    {
     "name": "stdout",
     "output_type": "stream",
     "text": [
      "0\n",
      "1\n",
      "2\n",
      "3\n",
      "4\n",
      "5\n",
      "6\n",
      "7\n",
      "8\n",
      "9\n",
      "10\n",
      "11\n"
     ]
    }
   ],
   "source": [
    "for row in u:\n",
    "    for cell in row:\n",
    "        print(cell)"
   ]
  },
  {
   "cell_type": "markdown",
   "id": "3cde1e6c-3e25-4863-83e7-3d5786605997",
   "metadata": {},
   "source": [
    " ### For loop with flatten"
   ]
  },
  {
   "cell_type": "code",
   "execution_count": 147,
   "id": "31301fc9-de60-4fc3-970d-7bde82bffe11",
   "metadata": {},
   "outputs": [
    {
     "name": "stdout",
     "output_type": "stream",
     "text": [
      "0\n",
      "1\n",
      "2\n",
      "3\n",
      "4\n",
      "5\n",
      "6\n",
      "7\n",
      "8\n",
      "9\n",
      "10\n",
      "11\n"
     ]
    }
   ],
   "source": [
    "for cell in u.flatten():\n",
    "    print(cell)"
   ]
  },
  {
   "cell_type": "markdown",
   "id": "616cc73a-7729-4125-8d96-a14bf0507b15",
   "metadata": {},
   "source": [
    "## nditer\n",
    "### C style orderning"
   ]
  },
  {
   "cell_type": "code",
   "execution_count": 148,
   "id": "e225d6b6-72f0-4524-a467-a12c36a489da",
   "metadata": {},
   "outputs": [
    {
     "name": "stdout",
     "output_type": "stream",
     "text": [
      "0\n",
      "1\n",
      "2\n",
      "3\n",
      "4\n",
      "5\n",
      "6\n",
      "7\n",
      "8\n",
      "9\n",
      "10\n",
      "11\n"
     ]
    }
   ],
   "source": [
    "for x in np.nditer(u,order=\"C\"):\n",
    "    print(x)                               #iterate threw raw"
   ]
  },
  {
   "cell_type": "markdown",
   "id": "1483b4f5-96ae-44d4-b28b-d7828126196d",
   "metadata": {},
   "source": [
    "### Fortan style orderning"
   ]
  },
  {
   "cell_type": "code",
   "execution_count": 149,
   "id": "077eaa89-653c-4b3f-b9c6-21c3da8c41fe",
   "metadata": {},
   "outputs": [
    {
     "name": "stdout",
     "output_type": "stream",
     "text": [
      "0\n",
      "4\n",
      "8\n",
      "1\n",
      "5\n",
      "9\n",
      "2\n",
      "6\n",
      "10\n",
      "3\n",
      "7\n",
      "11\n"
     ]
    }
   ],
   "source": [
    "for x in np.nditer(u,order=\"F\"):\n",
    "    print(x)                              #iterate threw column"
   ]
  },
  {
   "cell_type": "markdown",
   "id": "e66b77a7-37d4-4725-be98-52f95cb6a9cb",
   "metadata": {},
   "source": [
    "### external_loop"
   ]
  },
  {
   "cell_type": "code",
   "execution_count": 150,
   "id": "ebb1a7f3-ffa8-4927-98e1-2016806c1613",
   "metadata": {},
   "outputs": [
    {
     "name": "stdout",
     "output_type": "stream",
     "text": [
      "[0 4 8]\n",
      "[1 5 9]\n",
      "[ 2  6 10]\n",
      "[ 3  7 11]\n"
     ]
    }
   ],
   "source": [
    "for x in np.nditer(u, flags=['external_loop'],order='F'):\n",
    "    print(x)"
   ]
  },
  {
   "cell_type": "markdown",
   "id": "94787ab5-2a12-4cb2-a8d2-210a19d52f2f",
   "metadata": {},
   "source": [
    "### Modify array values while iterating"
   ]
  },
  {
   "cell_type": "code",
   "execution_count": 151,
   "id": "b41f3318-1956-4ad0-aeaa-caccc17531d6",
   "metadata": {},
   "outputs": [
    {
     "data": {
      "text/plain": [
       "array([[  0,   1,   4,   9],\n",
       "       [ 16,  25,  36,  49],\n",
       "       [ 64,  81, 100, 121]])"
      ]
     },
     "execution_count": 151,
     "metadata": {},
     "output_type": "execute_result"
    }
   ],
   "source": [
    "for x in np.nditer(u, op_flags=[\"readwrite\"]):\n",
    "    x[...]=x*x\n",
    "u"
   ]
  },
  {
   "cell_type": "code",
   "execution_count": 152,
   "id": "716de5ee-77e8-433c-b16d-987ed9691d26",
   "metadata": {},
   "outputs": [],
   "source": [
    "for x in np.nditer(u, op_flags=[\"readwrite\"]):\n",
    "    x[...]=x*3"
   ]
  },
  {
   "cell_type": "code",
   "execution_count": 153,
   "id": "632b8eee-e03d-4ed4-a145-26368d40c215",
   "metadata": {},
   "outputs": [
    {
     "data": {
      "text/plain": [
       "array([[  0,   3,  12,  27],\n",
       "       [ 48,  75, 108, 147],\n",
       "       [192, 243, 300, 363]])"
      ]
     },
     "execution_count": 153,
     "metadata": {},
     "output_type": "execute_result"
    }
   ],
   "source": [
    "u"
   ]
  },
  {
   "cell_type": "markdown",
   "id": "f004f2de-a976-43b4-8010-f8298d3d5c51",
   "metadata": {},
   "source": [
    "### Iterate two broadcastable arrays concurrently"
   ]
  },
  {
   "cell_type": "code",
   "execution_count": 154,
   "id": "86ffa1c3-a559-4cab-bd8c-6fee4b81e3c0",
   "metadata": {},
   "outputs": [
    {
     "data": {
      "text/plain": [
       "array([[ 3],\n",
       "       [ 7],\n",
       "       [11]])"
      ]
     },
     "execution_count": 154,
     "metadata": {},
     "output_type": "execute_result"
    }
   ],
   "source": [
    "v= np.arange(3,15,4).reshape(3,1)\n",
    "v"
   ]
  },
  {
   "cell_type": "code",
   "execution_count": 155,
   "id": "5f2bdc6f-5873-4404-9365-988ab4ea8ed3",
   "metadata": {},
   "outputs": [
    {
     "name": "stdout",
     "output_type": "stream",
     "text": [
      "0 3\n",
      "3 3\n",
      "12 3\n",
      "27 3\n",
      "48 7\n",
      "75 7\n",
      "108 7\n",
      "147 7\n",
      "192 11\n",
      "243 11\n",
      "300 11\n",
      "363 11\n"
     ]
    }
   ],
   "source": [
    "for x, y in np.nditer([u,v]):\n",
    "    print(x,y)"
   ]
  },
  {
   "cell_type": "code",
   "execution_count": null,
   "id": "122a41d6-ca88-434e-a395-e6c36b07e5ac",
   "metadata": {},
   "outputs": [],
   "source": []
  }
 ],
 "metadata": {
  "kernelspec": {
   "display_name": "Python 3 (ipykernel)",
   "language": "python",
   "name": "python3"
  },
  "language_info": {
   "codemirror_mode": {
    "name": "ipython",
    "version": 3
   },
   "file_extension": ".py",
   "mimetype": "text/x-python",
   "name": "python",
   "nbconvert_exporter": "python",
   "pygments_lexer": "ipython3",
   "version": "3.11.7"
  }
 },
 "nbformat": 4,
 "nbformat_minor": 5
}
